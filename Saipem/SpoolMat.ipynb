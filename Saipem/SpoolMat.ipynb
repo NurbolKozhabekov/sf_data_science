{
 "cells": [
  {
   "cell_type": "code",
   "execution_count": null,
   "metadata": {},
   "outputs": [
    {
     "name": "stderr",
     "output_type": "stream",
     "text": [
      "C:\\Users\\Administrator.DESKTOP-8R20EE2\\AppData\\Local\\Temp\\ipykernel_44656\\620558557.py:3: DtypeWarning: Columns (0,8,9,10,13,22,23,24,25,26,27,28,29) have mixed types. Specify dtype option on import or set low_memory=False.\n",
      "  spool_mat = pd.read_csv(r'C:\\Users\\Administrator.DESKTOP-8R20EE2\\Documents\\sf_data_science\\Saipem\\source\\SA983690_24032025165527_HG_SPOOL_MAT.Csv', sep = \";\")\n"
     ]
    },
    {
     "data": {
      "text/plain": [
       "<bound method NDFrame.head of                                                                                                                                                                                                                                                                                                                                                     Gemapi Extract Line Material\n",
       "Job    Site Line                 WBS Suffix Area  Line Status Spool Status Picom Rev Rev Pds Sub Job Unit Fluid Mark  Piping Class Obj Mat. Pom Diam Descr Comp Descr                                         Voucher Issued by Line Voucher Issued by Spool Unit Wgt DiainChes Qty Req Req Wgt Req Diainches Qty With. With. Wgt. With. Diainches                           NaN\n",
       "032320 SPL  GH-5173-422-FW_G13SB *** K      G13SB N           Missing      NaN       NaN     NaN     GOP  FW    00895 318113N9     FD  CAR  P   12         NPS: 12 Th: 10,31 90? Elbow Long Radius ASME B1... NaN                    NaN                     58.46    24        2       116.92  48            0         0          0                                         NaN\n",
       "                                                                                                                01799 318113N9     BB  CAR  M   12         NPS: 12 Flange Slip-On ASME B16.5 FLG x SO-F 30... NaN                    NaN                     49.8     12        4       199.2   48            0         0          0                                         NaN\n",
       "                                                                                                                05615 318113N9     AA  CAR  P   12         NPS: 12 Th: 10,31 Pipe ASME B36.10M PL SEAMLESS... NaN                    NaN                     7.97     24        20      159.4   NaN           0         0          NaN                                       NaN\n",
       "                                                                                                                12426 318113N9     GX  CAR  M   12         NPS: 12 Valve Butterfly API 609 FLG 300 Flat Fa... NaN                    NaN                     210      0         1       210     0             0         0          0                                         NaN\n",
       "...                                                                                                                                                                                                                                                                                                                                                                          ...\n",
       "32320  SPL  hl0374-913-cd_HLEUG  *** K      HLEUG N           Missing      NaN       NaN     NaN     HLE  CD    1233  111456G8     BF  KAL  M   4          NPS: 4 Flange Blind ASME B16.5 FLG 150 R.F. (12... NaN                    NaN                     7.7      0.0       1       7.7     0.0           0         0.0        0.0                                       NaN\n",
       "                                                                                                                2660  111456G8     ZZ  VAR  M   4          NPS: 4 Gasket ASME B16.20 FLG 150 R.F. (125-250... NaN                    NaN                     0.0      0.0       1       0.0     0.0           0         0.0        0.0                                       NaN\n",
       "                                                                                                                20723 111456G8     BB  KAL  P   4          NPS: 4 Th: 11,13 Flange Weld-Neck ASME B16.5 FL... NaN                    NaN                     7.4      4.0       1       7.4     4.0           0         0.0        0.0                                       NaN\n",
       "                                                                                                                20735 111456G8     AA  KAL  P   4          NPS: 4 Th: 11,13 Pipe ASME B36.10M BW SEAMLESS ... NaN                    NaN                     2.832    8.0       40      113.28  NaN           0         0.0        NaN                                       NaN\n",
       "                                                                                                                26808 111456G8     WP  CAR  M   5/8        NPS: 5/8  Len= 95 Stud Bolt + 2 Nuts ASME B18.2... NaN                    NaN                     0.23     0.0       8       1.84    0.0           0         0.0        0.0                                       NaN\n",
       "\n",
       "[193053 rows x 1 columns]>"
      ]
     },
     "metadata": {},
     "output_type": "display_data"
    }
   ],
   "source": [
    "import pandas as pd\n",
    "\n",
    "spool_mat = pd.read_csv(r'C:\\Users\\Administrator.DESKTOP-8R20EE2\\Documents\\sf_data_science\\Saipem\\source\\SA983690_24032025165527_HG_SPOOL_MAT.Csv', sep = \";\")\n",
    "\n",
    "display(spool_mat.head)"
   ]
  }
 ],
 "metadata": {
  "kernelspec": {
   "display_name": "Python 3",
   "language": "python",
   "name": "python3"
  },
  "language_info": {
   "codemirror_mode": {
    "name": "ipython",
    "version": 3
   },
   "file_extension": ".py",
   "mimetype": "text/x-python",
   "name": "python",
   "nbconvert_exporter": "python",
   "pygments_lexer": "ipython3",
   "version": "3.12.1"
  }
 },
 "nbformat": 4,
 "nbformat_minor": 2
}
